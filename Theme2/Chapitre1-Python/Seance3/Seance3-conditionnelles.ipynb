{
 "cells": [
  {
   "cell_type": "markdown",
   "metadata": {},
   "source": [
    "## Première NSI - Chapitre 1 - Programmer en Python\n",
    "# Séance 3 - Instructions conditionnelles\n",
    "*Si nous voulons pouvoir écrire des applications véritablement utiles, il nous faut des techniques permettant d’aiguiller le déroulement du programme dans différentes directions, en fonction des circonstances rencontrées. Pour ce faire, nous devons disposer d’instructions capables de tester une certaine condition et de modifier le comportement du programme en conséquence.*"
   ]
  },
  {
   "cell_type": "markdown",
   "metadata": {},
   "source": [
    "# 1. Une seule condition\n",
    "La plus simple de ces instructions conditionnelles est l’instruction `if`.  \n",
    "<img src=\"img/if.png\" width=600>  \n",
    "\n",
    "Le mot clef **\"alors\"** n’existe pas en Python. Ce sont les deux points et l’indentation qui le remplace.  \n",
    "Si la condition est vraie (`True`), alors le bloc d'instructions est exécuté.  \n",
    "Si la condition est fausse (`False`), on passe directement à la suite du programme.  \n",
    "*Le retour à la ligne sans indentation signifie la sortie de la structure.*  \n",
    "\n",
    "### Exemple\n",
    "```Python  \n",
    "nb = int(input(\"Choisir un nombre supérieur à 100 :  \"))  \n",
    "if nb > 100 :  \n",
    "    print(\"Le nombre\", nb, \"convient\")  \n",
    "\n",
    ">>> Choisir un nombre supérieur à 100 :  200  \n",
    "Le nombre 200 convient\n",
    "```   \n",
    "\n",
    "### Opérateurs de comparaison\n",
    "L’expression traduisant une condition en Python est un booléen.  \n",
    "On peut aussi combiner des booléens grâce à aux connecteurs logiques `not`, `and` et `or`.  \n",
    "```Python  \n",
    "x == y # x est égal à y  \n",
    "x != y # x est différent de y  \n",
    "x > y  # x est strictement supérieur à y  \n",
    "x < y  # x est strictement inférieur à y  \n",
    "x >= y # x est supérieur ou égal à y  \n",
    "x <= y  # x est inférieur ou égal à y  \n",
    "```\n",
    "\n",
    "### Exercice 1\n",
    "Ecrire un script qui demande l'âge de l'utilisateur et qui affiche s'il est mineur."
   ]
  },
  {
   "cell_type": "code",
   "execution_count": null,
   "metadata": {},
   "outputs": [],
   "source": [
    "age = int(input(\"Quel est votre âge ?\"))\n",
    "if age < 18 : \n",
    "    print(\"Vous êtes mineur.\")"
   ]
  },
  {
   "cell_type": "markdown",
   "metadata": {},
   "source": [
    "# 2. Une condition et une alternative\n",
    "Une instruction `else` peut être associée à une instruction `if`.  \n",
    "<img src=\"img/else.png\" width=600>\n",
    "\n",
    "Si la condition est vraie (`True`), alors le bloc d'instructions 1 est exécuté. Sinon le bloc d'instructions 2 est exécuté.  \n",
    "L’instruction complète est donc constituée de deux branches, dont une seule sera choisie.\n",
    "\n",
    "### Exemple\n",
    "```Python  \n",
    "nb = int(input(\"Entrer un nombre inférieur à 100 :  \"))\n",
    "if nb < 100 :\n",
    "    print(\"Le nombre\",nb,\"convient\")\n",
    "else :\n",
    "    print(\"Le nombre\",nb,\"est trop grand\")\n",
    "\n",
    ">>> Entrer un nombre inférieur à 100 :  21  \n",
    "Le nombre 21 convient\n",
    ">>> Entrer un nombre inférieur à 100 :  150  \n",
    "Le nombre 150 est trop grand\n",
    "```\n",
    "\n",
    "### Exercice 2\n",
    "Ecrire un script qui demande l'âge de l'utilisateur et qui affiche s'il est majeur ou mineur.\n",
    "\n",
    "### Exercice 3\n",
    "Ecrire un script qui demande un nombre entier N à l’utilisateur et affiche si celui-ci est un nombre pair ou impair.\n",
    "### Exercice 4\n",
    "Proposer à l'utilisateur une multiplication aléatoire de deux nombres compris entre 2 et 20 (on utilisera la fonction `randint`). Dire ensuite à l'utilisateur si son résultat proposé (sans calculatrice) est juste ou faux."
   ]
  },
  {
   "cell_type": "code",
   "execution_count": null,
   "metadata": {},
   "outputs": [],
   "source": [
    "age = int(input(\"Quel est votre âge ?\"))\n",
    "if age < 18 : \n",
    "    print(\"Vous êtes mineur.\")\n",
    "else : \n",
    "    print(\"Vous êtes majeur.\")"
   ]
  },
  {
   "cell_type": "code",
   "execution_count": null,
   "metadata": {},
   "outputs": [],
   "source": [
    "nb = int(input(\"Choisir un nombre : \"))\n",
    "if nb % 2 == 0 : \n",
    "    print(nb, \"est pair.\")\n",
    "else : \n",
    "    print(nb, \"est impair.\")"
   ]
  },
  {
   "cell_type": "code",
   "execution_count": null,
   "metadata": {},
   "outputs": [],
   "source": [
    "a = int(input(\"Choisir un nombre entre 2 et 20 : \"))\n",
    "b = int(input(\"Choisir un autre nombre entre 2 et 20 : \"))\n",
    "print(\"Combien fait\", a, \"fois\", b, \"? \")\n",
    "rep = int(input())\n",
    "if rep == a * b :\n",
    "    print(\"Bravo !\")\n",
    "else :\n",
    "    print(\"Mauvaise réponse, le résultat était\", a*b)"
   ]
  },
  {
   "cell_type": "markdown",
   "metadata": {},
   "source": [
    "# 3. Deux conditions ou plus\n",
    "### Exercice 5\n",
    "Ecrire un script qui demande à l’utilisateur de choisir un nombre et qui affiche s’il est strictement positif, strictement négatif, ou nul.  "
   ]
  },
  {
   "cell_type": "code",
   "execution_count": null,
   "metadata": {},
   "outputs": [],
   "source": [
    "# solution possible\n",
    "a = int(input(\"Choisir un nombre : \"))\n",
    "if a > 0 :\n",
    "    print(a, \"est strictement positif\")\n",
    "else :\n",
    "    if a == 0 :\n",
    "        print(a, \"est nul\")\n",
    "    else :\n",
    "        print(a, \"est strictement négatif\")"
   ]
  },
  {
   "cell_type": "code",
   "execution_count": null,
   "metadata": {},
   "outputs": [],
   "source": [
    "# autre solution possible avec elif\n",
    "a = int(input(\"Choisir un nombre : \"))\n",
    "if a > 0 :\n",
    "    print(a, \"est strictement positif\")\n",
    "elif a == 0 :\n",
    "    print(a, \"est nul\")\n",
    "else :\n",
    "    print(a, \"est strictement négatif\")  "
   ]
  },
  {
   "cell_type": "markdown",
   "metadata": {},
   "source": [
    "Il est donc possible de proposer trois branches ou plus. Après une première branche conditionnelle `if`, chaque branche suivante peut être ajoutée avec sa propre condition grâce au mot-clé `elif` (contraction de `else if`), l’ensemble pouvant être à nouveau complété d’une ultime branche `else` sélectionnée lorsque toutes les autres ont été écartées.  \n",
    "L’ordre dans lequel apparaissent les conditions compte : seule la première branche dont la condition est vraie est exécutée. Python ne considère donc la deuxième branche que si la première n’a pas été sélectionnée, la troisième que si ni la première ni la deuxième n’ont été retenues, et ainsi de suite.  \n",
    "<img src=\"img/elif.png\" width=600>\n",
    "\n",
    "\n",
    "### Exercice 6\n",
    "Le ticket d'entrée d'un musée coûte :\n",
    "+ 0 € pour les moins de 10 ans  \n",
    "+ 3 € pour les personnes entre 10 et 18 ans  \n",
    "+ 7 € pour les plus de 18 ans  \n",
    "\n",
    "Compléter ce code qui, pour un âge `age` donné, renvoie le prix du ticket d'entrée.  \n",
    "```Python  \n",
    "age = int(input(\"Quel est votre age ? \"))\n",
    "if ... :\n",
    "    print(\"0 euro\")\n",
    "elif ... :\n",
    "    print(\"3 euros\")\n",
    "else :\n",
    "    print(\"7 euros\")\n",
    "```"
   ]
  },
  {
   "cell_type": "code",
   "execution_count": null,
   "metadata": {},
   "outputs": [],
   "source": [
    "age = int(input(\"Quel est votre age ? \"))\n",
    "if age < 10 :\n",
    "    print(\"0 euro\")\n",
    "elif 10 <= age <=18 :\n",
    "    print(\"3 euros\")\n",
    "else :\n",
    "    print(\"7 euros\")"
   ]
  },
  {
   "cell_type": "markdown",
   "metadata": {},
   "source": [
    "### Exercice 7\n",
    "Qu'affiche ce script ?  \n",
    "```Python  \n",
    "a=2  \n",
    "b=0  \n",
    "if a<0 :  \n",
    "\tb=1  \n",
    "elif a>0 and a<5 :  \n",
    "\tb=2  \n",
    "else :  \n",
    "\tb=3  \n",
    "print(b)  \n",
    "\n",
    "```  \n",
    "*Réponse : 2*"
   ]
  },
  {
   "cell_type": "code",
   "execution_count": null,
   "metadata": {},
   "outputs": [],
   "source": []
  }
 ],
 "metadata": {
  "kernelspec": {
   "display_name": "Python 3",
   "language": "python",
   "name": "python3"
  },
  "language_info": {
   "codemirror_mode": {
    "name": "ipython",
    "version": 3
   },
   "file_extension": ".py",
   "mimetype": "text/x-python",
   "name": "python",
   "nbconvert_exporter": "python",
   "pygments_lexer": "ipython3",
   "version": "3.7.6"
  },
  "toc": {
   "base_numbering": 1,
   "nav_menu": {},
   "number_sections": false,
   "sideBar": true,
   "skip_h1_title": false,
   "title_cell": "Table of Contents",
   "title_sidebar": "Contents",
   "toc_cell": false,
   "toc_position": {
    "height": "calc(100% - 180px)",
    "left": "10px",
    "top": "150px",
    "width": "386.133px"
   },
   "toc_section_display": true,
   "toc_window_display": false
  }
 },
 "nbformat": 4,
 "nbformat_minor": 2
}
